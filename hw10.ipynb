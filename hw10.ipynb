{
 "cells": [
  {
   "cell_type": "code",
   "execution_count": 1,
   "metadata": {},
   "outputs": [],
   "source": [
    "import os\n",
    "import numpy as np\n",
    "import matplotlib.pyplot as plt"
   ]
  },
  {
   "cell_type": "code",
   "execution_count": 3,
   "metadata": {},
   "outputs": [],
   "source": [
    "from tensorflow import keras\n",
    "from keras import models\n",
    "from keras import layers\n",
    "from keras.datasets import imdb\n",
    "import pandas as pd"
   ]
  },
  {
   "cell_type": "code",
   "execution_count": 8,
   "metadata": {},
   "outputs": [],
   "source": [
    "from keras.preprocessing import sequence\n",
    "max_words=10000\n",
    "(X_train,y_train),(X_test,y_test)=imdb.load_data(num_words=max_words)\n",
    "maxlen=100\n",
    "X_train=sequence.pad_sequences(X_train,maxlen=maxlen)\n",
    "X_test=sequence.pad_sequences(X_test,maxlen=maxlen)"
   ]
  },
  {
   "cell_type": "code",
   "execution_count": 9,
   "metadata": {},
   "outputs": [
    {
     "data": {
      "text/plain": [
       "array([1415,   33,    6,   22,   12,  215,   28,   77,   52,    5,   14,\n",
       "        407,   16,   82,    2,    8,    4,  107,  117, 5952,   15,  256,\n",
       "          4,    2,    7, 3766,    5,  723,   36,   71,   43,  530,  476,\n",
       "         26,  400,  317,   46,    7,    4,    2, 1029,   13,  104,   88,\n",
       "          4,  381,   15,  297,   98,   32, 2071,   56,   26,  141,    6,\n",
       "        194, 7486,   18,    4,  226,   22,   21,  134,  476,   26,  480,\n",
       "          5,  144,   30, 5535,   18,   51,   36,   28,  224,   92,   25,\n",
       "        104,    4,  226,   65,   16,   38, 1334,   88,   12,   16,  283,\n",
       "          5,   16, 4472,  113,  103,   32,   15,   16, 5345,   19,  178,\n",
       "         32])"
      ]
     },
     "execution_count": 9,
     "metadata": {},
     "output_type": "execute_result"
    }
   ],
   "source": [
    "X_train[0]"
   ]
  },
  {
   "cell_type": "raw",
   "metadata": {},
   "source": []
  },
  {
   "cell_type": "code",
   "execution_count": 11,
   "metadata": {},
   "outputs": [],
   "source": [
    "rnn=models.Sequential()\n",
    "rnn.add(layers.Embedding(max_words,16))\n",
    "rnn.add(layers.SimpleRNN(32,return_sequences='True'))"
   ]
  },
  {
   "cell_type": "code",
   "execution_count": 15,
   "metadata": {},
   "outputs": [],
   "source": [
    "\n",
    "rnn.add(layers.Dense(1))\n",
    "rnn.compile(loss='mse')"
   ]
  },
  {
   "cell_type": "code",
   "execution_count": 17,
   "metadata": {},
   "outputs": [
    {
     "name": "stdout",
     "output_type": "stream",
     "text": [
      "Model: \"sequential_1\"\n",
      "_________________________________________________________________\n",
      "Layer (type)                 Output Shape              Param #   \n",
      "=================================================================\n",
      "embedding_1 (Embedding)      (None, None, 16)          160000    \n",
      "_________________________________________________________________\n",
      "simple_rnn (SimpleRNN)       (None, None, 32)          1568      \n",
      "_________________________________________________________________\n",
      "dense (Dense)                (None, None, 1)           33        \n",
      "_________________________________________________________________\n",
      "dense_1 (Dense)              (None, None, 1)           2         \n",
      "_________________________________________________________________\n",
      "dense_2 (Dense)              (None, None, 1)           2         \n",
      "=================================================================\n",
      "Total params: 161,605\n",
      "Trainable params: 161,605\n",
      "Non-trainable params: 0\n",
      "_________________________________________________________________\n"
     ]
    }
   ],
   "source": [
    "rnn.summary()"
   ]
  },
  {
   "cell_type": "code",
   "execution_count": 18,
   "metadata": {},
   "outputs": [
    {
     "name": "stdout",
     "output_type": "stream",
     "text": [
      "Epoch 1/30\n",
      "625/625 [==============================] - 9s 14ms/step - loss: 0.2016 - val_loss: 0.1750\n",
      "Epoch 2/30\n",
      "625/625 [==============================] - 14s 22ms/step - loss: 0.1584 - val_loss: 0.1694\n",
      "Epoch 3/30\n",
      "625/625 [==============================] - 15s 24ms/step - loss: 0.1482 - val_loss: 0.1706\n",
      "Epoch 4/30\n",
      "625/625 [==============================] - 15s 24ms/step - loss: 0.1412 - val_loss: 0.1768\n",
      "Epoch 5/30\n",
      "625/625 [==============================] - 14s 23ms/step - loss: 0.1368 - val_loss: 0.1774\n",
      "Epoch 6/30\n",
      "625/625 [==============================] - 15s 24ms/step - loss: 0.1322 - val_loss: 0.1681\n",
      "Epoch 7/30\n",
      "625/625 [==============================] - 15s 23ms/step - loss: 0.1286 - val_loss: 0.1697\n",
      "Epoch 8/30\n",
      "625/625 [==============================] - 14s 23ms/step - loss: 0.1250 - val_loss: 0.1688\n",
      "Epoch 9/30\n",
      "625/625 [==============================] - 15s 23ms/step - loss: 0.1216 - val_loss: 0.1677\n",
      "Epoch 10/30\n",
      "625/625 [==============================] - 15s 24ms/step - loss: 0.1185 - val_loss: 0.1743\n",
      "Epoch 11/30\n",
      "625/625 [==============================] - 14s 23ms/step - loss: 0.1161 - val_loss: 0.1785\n",
      "Epoch 12/30\n",
      "625/625 [==============================] - 14s 22ms/step - loss: 0.1132 - val_loss: 0.1725\n",
      "Epoch 13/30\n",
      "625/625 [==============================] - 15s 24ms/step - loss: 0.1116 - val_loss: 0.1741\n",
      "Epoch 14/30\n",
      "625/625 [==============================] - 15s 24ms/step - loss: 0.1085 - val_loss: 0.1878\n",
      "Epoch 15/30\n",
      "625/625 [==============================] - 15s 24ms/step - loss: 0.1070 - val_loss: 0.1824\n",
      "Epoch 16/30\n",
      "625/625 [==============================] - 15s 24ms/step - loss: 0.1041 - val_loss: 0.1757\n",
      "Epoch 17/30\n",
      "625/625 [==============================] - 15s 23ms/step - loss: 0.1026 - val_loss: 0.1933\n",
      "Epoch 18/30\n",
      "625/625 [==============================] - 15s 23ms/step - loss: 0.1010 - val_loss: 0.1822\n",
      "Epoch 19/30\n",
      "625/625 [==============================] - 15s 24ms/step - loss: 0.0999 - val_loss: 0.1811\n",
      "Epoch 20/30\n",
      "625/625 [==============================] - 15s 23ms/step - loss: 0.0972 - val_loss: 0.1935\n",
      "Epoch 21/30\n",
      "625/625 [==============================] - 15s 24ms/step - loss: 0.0963 - val_loss: 0.1795\n",
      "Epoch 22/30\n",
      "625/625 [==============================] - 15s 24ms/step - loss: 0.0946 - val_loss: 0.1864\n",
      "Epoch 23/30\n",
      "625/625 [==============================] - 15s 24ms/step - loss: 0.0934 - val_loss: 0.1932\n",
      "Epoch 24/30\n",
      "625/625 [==============================] - 15s 23ms/step - loss: 0.0918 - val_loss: 0.1904\n",
      "Epoch 25/30\n",
      "625/625 [==============================] - 15s 23ms/step - loss: 0.0908 - val_loss: 0.2067\n",
      "Epoch 26/30\n",
      "625/625 [==============================] - 15s 24ms/step - loss: 0.0887 - val_loss: 0.2070\n",
      "Epoch 27/30\n",
      "625/625 [==============================] - 15s 24ms/step - loss: 0.0876 - val_loss: 0.1957\n",
      "Epoch 28/30\n",
      "625/625 [==============================] - 15s 24ms/step - loss: 0.0865 - val_loss: 0.1937\n",
      "Epoch 29/30\n",
      "625/625 [==============================] - 16s 26ms/step - loss: 0.0848 - val_loss: 0.2167\n",
      "Epoch 30/30\n",
      "625/625 [==============================] - 15s 24ms/step - loss: 0.0843 - val_loss: 0.2100\n"
     ]
    }
   ],
   "source": [
    "history=rnn.fit(X_train,y_train,epochs=30,verbose=1,validation_split=0.2)"
   ]
  },
  {
   "cell_type": "code",
   "execution_count": 19,
   "metadata": {},
   "outputs": [
    {
     "data": {
      "text/plain": [
       "[<matplotlib.lines.Line2D at 0x1529583e9a0>]"
      ]
     },
     "execution_count": 19,
     "metadata": {},
     "output_type": "execute_result"
    },
    {
     "data": {
      "image/png": "[encoded data removed]",
      "text/plain": [
       "<Figure size 432x288 with 1 Axes>"
      ]
     },
     "metadata": {
      "needs_background": "light"
     },
     "output_type": "display_data"
    }
   ],
   "source": [
    "loss=history.history['loss']\n",
    "val=history.history['val_loss']\n",
    "plt.plot(loss)\n",
    "plt.plot(val,'o')"
   ]
  },
  {
   "cell_type": "code",
   "execution_count": 24,
   "metadata": {},
   "outputs": [
    {
     "name": "stdout",
     "output_type": "stream",
     "text": [
      "782/782 [==============================] - 3s 4ms/step - loss: 0.2139\n"
     ]
    },
    {
     "data": {
      "text/plain": [
       "0.21389803290367126"
      ]
     },
     "execution_count": 24,
     "metadata": {},
     "output_type": "execute_result"
    }
   ],
   "source": [
    "rnn.evaluate(X_test,y_test)"
   ]
  },
  {
   "cell_type": "code",
   "execution_count": null,
   "metadata": {},
   "outputs": [],
   "source": [
    "##cnn에 비해서 정확도가 낮음을 확인할 수 있었다"
   ]
  }
 ],
 "metadata": {
  "kernelspec": {
   "display_name": "Python 3",
   "language": "python",
   "name": "python3"
  },
  "language_info": {
   "codemirror_mode": {
    "name": "ipython",
    "version": 3
   },
   "file_extension": ".py",
   "mimetype": "text/x-python",
   "name": "python",
   "nbconvert_exporter": "python",
   "pygments_lexer": "ipython3",
   "version": "3.8.3"
  }
 },
 "nbformat": 4,
 "nbformat_minor": 4
}
