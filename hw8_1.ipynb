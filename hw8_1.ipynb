{
 "cells": [
  {
   "cell_type": "code",
   "execution_count": 4,
   "metadata": {},
   "outputs": [],
   "source": [
    "from keras .datasets import mnist\n",
    "from tensorflow import keras\n",
    "from keras import models\n",
    "from keras import layers\n",
    "import numpy as np\n",
    "import matplotlib.pyplot as plt\n",
    "from keras.utils import to_categorical\n",
    "(X_train,y_train),(X_test,y_test)=mnist.load_data()"
   ]
  },
  {
   "cell_type": "code",
   "execution_count": 4,
   "metadata": {},
   "outputs": [],
   "source": [
    "from keras .datasets import mnist\n",
    "from tensorflow import keras\n",
    "from keras import models\n",
    "from keras import layers\n",
    "import numpy as np\n",
    "import matplotlib.pyplot as plt\n",
    "from keras.utils import to_categorical\n",
    "(X_train,y_train),(X_test,y_test)=mnist.load_data()"
   ]
  },
  {
   "cell_type": "code",
   "execution_count": 6,
   "metadata": {},
   "outputs": [],
   "source": [
    "y_train=to_categorical(y_train)\n",
    "y_test=to_categorical(y_test)"
   ]
  },
  {
   "cell_type": "code",
   "execution_count": 8,
   "metadata": {},
   "outputs": [],
   "source": [
    "net=models.Sequential()\n",
    "\n",
    "X_train=X_train.reshape(60000,28*28)\n",
    "X_train=X_train/255\n",
    "X_test=X_test.reshape(10000,28*28)\n",
    "X_test=X_test/255"
   ]
  },
  {
   "cell_type": "code",
   "execution_count": 9,
   "metadata": {},
   "outputs": [],
   "source": [
    "X_val=X_train[:10000]\n",
    "particle_X_train=X_train[10000:]\n",
    "\n",
    "y_val=y_train[:10000]\n",
    "particle_y_train=y_train[10000:]"
   ]
  },
  {
   "cell_type": "code",
   "execution_count": 29,
   "metadata": {},
   "outputs": [],
   "source": [
    "net.add(layers.Dense(512,activation='relu', input_shape=(28*28,)))\n",
    "net.add(layers.Dropout(0.5))\n",
    "net.add(layers.Dense(512,activation='relu', input_shape=(28*28,)))\n",
    "net.add(layers.Dropout(0.5))\n",
    "net.add(layers.Dense(10,activation='softmax'))\n",
    "net.compile(optimizer='nadam', loss='categorical_crossentropy',metrics=['acc'])"
   ]
  },
  {
   "cell_type": "code",
   "execution_count": 30,
   "metadata": {},
   "outputs": [
    {
     "name": "stdout",
     "output_type": "stream",
     "text": [
      "Epoch 1/20\n",
      "391/391 [==============================] - 24s 62ms/step - loss: 1.1428 - acc: 0.5199 - val_loss: 0.5319 - val_acc: 0.8019\n",
      "Epoch 2/20\n",
      "391/391 [==============================] - 26s 67ms/step - loss: 0.3297 - acc: 0.9110 - val_loss: 0.1955 - val_acc: 0.9557\n",
      "Epoch 3/20\n",
      "391/391 [==============================] - 27s 68ms/step - loss: 0.1917 - acc: 0.9556 - val_loss: 0.1688 - val_acc: 0.9619\n",
      "Epoch 4/20\n",
      "391/391 [==============================] - 26s 67ms/step - loss: 0.1453 - acc: 0.9669 - val_loss: 0.1438 - val_acc: 0.9654\n",
      "Epoch 5/20\n",
      "391/391 [==============================] - 26s 68ms/step - loss: 0.1233 - acc: 0.9726 - val_loss: 0.1217 - val_acc: 0.9712\n",
      "Epoch 6/20\n",
      "391/391 [==============================] - 26s 67ms/step - loss: 0.1048 - acc: 0.9771 - val_loss: 0.1168 - val_acc: 0.9742\n",
      "Epoch 7/20\n",
      "391/391 [==============================] - 26s 67ms/step - loss: 0.0960 - acc: 0.9790 - val_loss: 0.1331 - val_acc: 0.9700\n",
      "Epoch 8/20\n",
      "391/391 [==============================] - 25s 65ms/step - loss: 0.0870 - acc: 0.9808 - val_loss: 0.1206 - val_acc: 0.9741\n",
      "Epoch 9/20\n",
      "391/391 [==============================] - 24s 61ms/step - loss: 0.0773 - acc: 0.9824 - val_loss: 0.1205 - val_acc: 0.9761\n",
      "Epoch 10/20\n",
      "391/391 [==============================] - 28s 72ms/step - loss: 0.0694 - acc: 0.9853 - val_loss: 0.1355 - val_acc: 0.9717\n",
      "Epoch 11/20\n",
      "391/391 [==============================] - 27s 69ms/step - loss: 0.0646 - acc: 0.9861 - val_loss: 0.1342 - val_acc: 0.9759\n",
      "Epoch 12/20\n",
      "391/391 [==============================] - 27s 68ms/step - loss: 0.0644 - acc: 0.9854 - val_loss: 0.1068 - val_acc: 0.9780\n",
      "Epoch 13/20\n",
      "391/391 [==============================] - 27s 70ms/step - loss: 0.0658 - acc: 0.9864 - val_loss: 0.1150 - val_acc: 0.9776\n",
      "Epoch 14/20\n",
      "391/391 [==============================] - 27s 70ms/step - loss: 0.0581 - acc: 0.9875 - val_loss: 0.1126 - val_acc: 0.9790\n",
      "Epoch 15/20\n",
      "391/391 [==============================] - 27s 68ms/step - loss: 0.0601 - acc: 0.9873 - val_loss: 0.1132 - val_acc: 0.9788\n",
      "Epoch 16/20\n",
      "391/391 [==============================] - 27s 68ms/step - loss: 0.0548 - acc: 0.9888 - val_loss: 0.1460 - val_acc: 0.9737\n",
      "Epoch 17/20\n",
      "391/391 [==============================] - 26s 67ms/step - loss: 0.0511 - acc: 0.9895 - val_loss: 0.1141 - val_acc: 0.9770\n",
      "Epoch 18/20\n",
      "391/391 [==============================] - 28s 72ms/step - loss: 0.0465 - acc: 0.9905 - val_loss: 0.1543 - val_acc: 0.9733\n",
      "Epoch 19/20\n",
      "391/391 [==============================] - 29s 74ms/step - loss: 0.0465 - acc: 0.9904 - val_loss: 0.1177 - val_acc: 0.9784\n",
      "Epoch 20/20\n",
      "391/391 [==============================] - 27s 70ms/step - loss: 0.0470 - acc: 0.9904 - val_loss: 0.1140 - val_acc: 0.9796\n"
     ]
    }
   ],
   "source": [
    "val=net.fit(particle_X_train,particle_y_train, epochs=20, batch_size=128, validation_data=(X_val,y_val))"
   ]
  },
  {
   "cell_type": "code",
   "execution_count": 35,
   "metadata": {},
   "outputs": [
    {
     "data": {
      "text/plain": [
       "<matplotlib.legend.Legend at 0x2929a31d340>"
      ]
     },
     "execution_count": 35,
     "metadata": {},
     "output_type": "execute_result"
    },
    {
     "data": {
      "image/png": "[encoded data removed]",
      "text/plain": [
       "<Figure size 432x288 with 1 Axes>"
      ]
     },
     "metadata": {
      "needs_background": "light"
     },
     "output_type": "display_data"
    }
   ],
   "source": [
    "val_dict=val.history\n",
    "loss=val_dict['loss']\n",
    "val_loss=val_dict['val_loss']\n",
    "x=np.arange(0,len(loss))\n",
    "plt.plot(x,loss,'bo',label='E')\n",
    "plt.plot(x,val_loss,'ro',label='Ev')\n",
    "plt.legend()"
   ]
  },
  {
   "cell_type": "code",
   "execution_count": 37,
   "metadata": {},
   "outputs": [
    {
     "data": {
      "text/plain": [
       "[<matplotlib.lines.Line2D at 0x2929c2bf790>]"
      ]
     },
     "execution_count": 37,
     "metadata": {},
     "output_type": "execute_result"
    },
    {
     "data": {
      "image/png": "[encoded data removed]",
      "text/plain": [
       "<Figure size 432x288 with 1 Axes>"
      ]
     },
     "metadata": {
      "needs_background": "light"
     },
     "output_type": "display_data"
    }
   ],
   "source": [
    "acc=val_dict['acc']\n",
    "val_acc=val_dict['val_acc']\n",
    "plt.plot(x,acc,'bo',label='A')\n",
    "plt.plot(x,val_acc,'ro',label='Av')"
   ]
  },
  {
   "cell_type": "code",
   "execution_count": 38,
   "metadata": {},
   "outputs": [
    {
     "name": "stdout",
     "output_type": "stream",
     "text": [
      "313/313 [==============================] - 1s 3ms/step - loss: 0.1107 - acc: 0.9803\n"
     ]
    }
   ],
   "source": [
    "test_loss,test_acc=net.evaluate(X_test,y_test)"
   ]
  },
  {
   "cell_type": "code",
   "execution_count": null,
   "metadata": {},
   "outputs": [],
   "source": []
  }
 ],
 "metadata": {
  "kernelspec": {
   "display_name": "Python 3",
   "language": "python",
   "name": "python3"
  },
  "language_info": {
   "codemirror_mode": {
    "name": "ipython",
    "version": 3
   },
   "file_extension": ".py",
   "mimetype": "text/x-python",
   "name": "python",
   "nbconvert_exporter": "python",
   "pygments_lexer": "ipython3",
   "version": "3.8.3"
  }
 },
 "nbformat": 4,
 "nbformat_minor": 4
}
