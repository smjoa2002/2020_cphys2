{
 "cells": [
  {
   "cell_type": "code",
   "execution_count": 21,
   "metadata": {},
   "outputs": [],
   "source": [
    "from keras.datasets import fashion_mnist\n",
    "from tensorflow import keras\n",
    "from keras import layers\n",
    "from keras import models\n",
    "import numpy as np\n",
    "import matplotlib.pyplot as plt\n",
    "from keras.utils import to_categorical\n",
    "(X,y),(X_test,y_test)=fashion_mnist.load_data()"
   ]
  },
  {
   "cell_type": "code",
   "execution_count": 29,
   "metadata": {},
   "outputs": [],
   "source": [
    "y=to_categorical(y)\n",
    "y_test=to_categorical(y_test)\n",
    "X=X.reshape((60000,28*28))\n",
    "X=X/255\n",
    "X_test=X_test.reshape((10000,28*28))\n",
    "X_test=X_test/255\n",
    "t=models.Sequential()"
   ]
  },
  {
   "cell_type": "code",
   "execution_count": 30,
   "metadata": {},
   "outputs": [],
   "source": [
    "X_val=X[:10000]\n",
    "px_val=X[10000:]\n",
    "y_val=y[:10000]\n",
    "py_val=y[10000:]"
   ]
  },
  {
   "cell_type": "code",
   "execution_count": 33,
   "metadata": {},
   "outputs": [],
   "source": [
    "\n",
    "t.add(layers.Dense(512, activation='relu'))\n",
    "t.add(layers.Dropout(0.5))\n",
    "t.add(layers.Dense(512,activation='relu'))\n",
    "t.add(layers.Dropout(0.5))\n",
    "t.add(layers.Dense(10,activation='softmax'))\n",
    "t.compile(optimizer='nadam',loss='categorical_crossentropy',metrics=['acc'])"
   ]
  },
  {
   "cell_type": "code",
   "execution_count": 36,
   "metadata": {},
   "outputs": [
    {
     "name": "stdout",
     "output_type": "stream",
     "text": [
      "Epoch 1/10\n",
      "391/391 [==============================] - 9s 22ms/step - loss: 0.3308 - acc: 0.8776 - val_loss: 0.3135 - val_acc: 0.8869\n",
      "Epoch 2/10\n",
      "391/391 [==============================] - 10s 26ms/step - loss: 0.3179 - acc: 0.8820 - val_loss: 0.2995 - val_acc: 0.8903\n",
      "Epoch 3/10\n",
      "391/391 [==============================] - 11s 29ms/step - loss: 0.3165 - acc: 0.8826 - val_loss: 0.3042 - val_acc: 0.8841\n",
      "Epoch 4/10\n",
      "391/391 [==============================] - 11s 28ms/step - loss: 0.3135 - acc: 0.8835 - val_loss: 0.2991 - val_acc: 0.8926\n",
      "Epoch 5/10\n",
      "391/391 [==============================] - 11s 29ms/step - loss: 0.3083 - acc: 0.8850 - val_loss: 0.3018 - val_acc: 0.8903\n",
      "Epoch 6/10\n",
      "391/391 [==============================] - 11s 28ms/step - loss: 0.3074 - acc: 0.8851 - val_loss: 0.2994 - val_acc: 0.8917\n",
      "Epoch 7/10\n",
      "391/391 [==============================] - 11s 29ms/step - loss: 0.3017 - acc: 0.8866 - val_loss: 0.2965 - val_acc: 0.8938\n",
      "Epoch 8/10\n",
      "391/391 [==============================] - 11s 28ms/step - loss: 0.2979 - acc: 0.8892 - val_loss: 0.2969 - val_acc: 0.8885\n",
      "Epoch 9/10\n",
      "391/391 [==============================] - 11s 28ms/step - loss: 0.2954 - acc: 0.8906 - val_loss: 0.2920 - val_acc: 0.8935\n",
      "Epoch 10/10\n",
      "391/391 [==============================] - 11s 29ms/step - loss: 0.2944 - acc: 0.8893 - val_loss: 0.2927 - val_acc: 0.8885\n"
     ]
    }
   ],
   "source": [
    "val=t.fit(px_val,py_val,epochs=10,batch_size=128,validation_data=(X_val,y_val))"
   ]
  },
  {
   "cell_type": "code",
   "execution_count": 37,
   "metadata": {},
   "outputs": [],
   "source": [
    "val_dict=val.history\n",
    "loss=val_dict['loss']\n",
    "val_loss=val_dict['val_loss']"
   ]
  },
  {
   "cell_type": "code",
   "execution_count": 39,
   "metadata": {},
   "outputs": [
    {
     "data": {
      "text/plain": [
       "<matplotlib.legend.Legend at 0x23d8dc22b50>"
      ]
     },
     "execution_count": 39,
     "metadata": {},
     "output_type": "execute_result"
    },
    {
     "data": {
      "image/png": "[encoded data removed]",
      "text/plain": [
       "<Figure size 432x288 with 1 Axes>"
      ]
     },
     "metadata": {
      "needs_background": "light"
     },
     "output_type": "display_data"
    }
   ],
   "source": [
    "x=np.arange(0,len(loss))\n",
    "plt.plot(x,loss,'bo',label='E')\n",
    "plt.plot(x,val_loss,'ro',label='Ev')\n",
    "plt.legend()"
   ]
  },
  {
   "cell_type": "code",
   "execution_count": 41,
   "metadata": {},
   "outputs": [
    {
     "data": {
      "text/plain": [
       "[<matplotlib.lines.Line2D at 0x23d8dc8d850>]"
      ]
     },
     "execution_count": 41,
     "metadata": {},
     "output_type": "execute_result"
    },
    {
     "data": {
      "image/png": "[encoded data removed]",
      "text/plain": [
       "<Figure size 432x288 with 1 Axes>"
      ]
     },
     "metadata": {
      "needs_background": "light"
     },
     "output_type": "display_data"
    }
   ],
   "source": [
    "a=val_dict['acc']\n",
    "val_a=val_dict['val_acc']\n",
    "plt.plot(x,a,'bo',label='a')\n",
    "plt.plot(x,val_a,'ro',label='b')"
   ]
  },
  {
   "cell_type": "code",
   "execution_count": null,
   "metadata": {},
   "outputs": [],
   "source": []
  }
 ],
 "metadata": {
  "kernelspec": {
   "display_name": "Python 3",
   "language": "python",
   "name": "python3"
  },
  "language_info": {
   "codemirror_mode": {
    "name": "ipython",
    "version": 3
   },
   "file_extension": ".py",
   "mimetype": "text/x-python",
   "name": "python",
   "nbconvert_exporter": "python",
   "pygments_lexer": "ipython3",
   "version": "3.8.3"
  }
 },
 "nbformat": 4,
 "nbformat_minor": 4
}
